{
  "nbformat": 4,
  "nbformat_minor": 0,
  "metadata": {
    "kernelspec": {
      "display_name": "Python 3",
      "language": "python",
      "name": "python3"
    },
    "language_info": {
      "codemirror_mode": {
        "name": "ipython",
        "version": 3
      },
      "file_extension": ".py",
      "mimetype": "text/x-python",
      "name": "python",
      "nbconvert_exporter": "python",
      "pygments_lexer": "ipython3",
      "version": "3.7.7"
    },
    "colab": {
      "name": "traffic_(1) (1).ipynb",
      "provenance": [],
      "collapsed_sections": [],
      "include_colab_link": true
    },
    "accelerator": "GPU"
  },
  "cells": [
    {
      "cell_type": "markdown",
      "metadata": {
        "id": "view-in-github",
        "colab_type": "text"
      },
      "source": [
        "<a href=\"https://colab.research.google.com/github/umerzia-7001/Traffic_Sign_classifier/blob/master/traffic_(1)_(1).ipynb\" target=\"_parent\"><img src=\"https://colab.research.google.com/assets/colab-badge.svg\" alt=\"Open In Colab\"/></a>"
      ]
    },
    {
      "cell_type": "code",
      "metadata": {
        "id": "ycQt6u815j8K",
        "colab_type": "code",
        "colab": {
          "base_uri": "https://localhost:8080/",
          "height": 204
        },
        "outputId": "0e069241-aa48-4052-9479-07073e28fff6"
      },
      "source": [
        "import sys\n",
        "sys.path.append('/Library/Frameworks/Python.framework/Versions/3.7/lib/python3.7/site-packages')\n",
        "\n",
        "!pip3 install numpy\n",
        "!pip3 install matplotlib\n",
        "!pip3 install PIL\n",
        "\n",
        "\n",
        "\n",
        "import numpy as np \n",
        "import pandas as pd \n",
        "import matplotlib.pyplot as plt\n",
        "import cv2\n",
        "import tensorflow as tf\n",
        "from PIL import Image\n",
        "import os\n",
        "from sklearn.model_selection import train_test_split\n",
        "from keras.layers import Dense,Conv2D,MaxPooling2D,Flatten,Dropout\n",
        "from keras.models import Sequential\n",
        "from keras.callbacks import EarlyStopping,ModelCheckpoint\n",
        "from keras.optimizers import Adam\n",
        "from keras.callbacks import ReduceLROnPlateau"
      ],
      "execution_count": null,
      "outputs": [
        {
          "output_type": "stream",
          "text": [
            "Requirement already satisfied: numpy in /usr/local/lib/python3.6/dist-packages (1.18.5)\n",
            "Requirement already satisfied: matplotlib in /usr/local/lib/python3.6/dist-packages (3.2.2)\n",
            "Requirement already satisfied: python-dateutil>=2.1 in /usr/local/lib/python3.6/dist-packages (from matplotlib) (2.8.1)\n",
            "Requirement already satisfied: numpy>=1.11 in /usr/local/lib/python3.6/dist-packages (from matplotlib) (1.18.5)\n",
            "Requirement already satisfied: cycler>=0.10 in /usr/local/lib/python3.6/dist-packages (from matplotlib) (0.10.0)\n",
            "Requirement already satisfied: pyparsing!=2.0.4,!=2.1.2,!=2.1.6,>=2.0.1 in /usr/local/lib/python3.6/dist-packages (from matplotlib) (2.4.7)\n",
            "Requirement already satisfied: kiwisolver>=1.0.1 in /usr/local/lib/python3.6/dist-packages (from matplotlib) (1.2.0)\n",
            "Requirement already satisfied: six>=1.5 in /usr/local/lib/python3.6/dist-packages (from python-dateutil>=2.1->matplotlib) (1.15.0)\n",
            "\u001b[31mERROR: Could not find a version that satisfies the requirement PIL (from versions: none)\u001b[0m\n",
            "\u001b[31mERROR: No matching distribution found for PIL\u001b[0m\n"
          ],
          "name": "stdout"
        },
        {
          "output_type": "stream",
          "text": [
            "Using TensorFlow backend.\n"
          ],
          "name": "stderr"
        }
      ]
    },
    {
      "cell_type": "code",
      "metadata": {
        "id": "fhjrgrux694l",
        "colab_type": "code",
        "colab": {
          "base_uri": "https://localhost:8080/",
          "height": 34
        },
        "outputId": "f115528b-dd8b-467a-8ec4-9d72bd29254d"
      },
      "source": [
        "from google.colab import drive\n",
        "drive.mount('/content/drive')"
      ],
      "execution_count": null,
      "outputs": [
        {
          "output_type": "stream",
          "text": [
            "Drive already mounted at /content/drive; to attempt to forcibly remount, call drive.mount(\"/content/drive\", force_remount=True).\n"
          ],
          "name": "stdout"
        }
      ]
    },
    {
      "cell_type": "code",
      "metadata": {
        "id": "0xZLMvnZ5j8m",
        "colab_type": "code",
        "colab": {
          "base_uri": "https://localhost:8080/",
          "height": 51
        },
        "outputId": "8597fd34-2108-4a61-e4a6-8e089dc363cc"
      },
      "source": [
        "\n",
        "!git clone https://bitbucket.org/jadslim/german-traffic-signs\n",
        "!ls german-traffic-signs\n",
        "\n",
        "#!apt install p7zip-full\n",
        "#!7z x '/content/drive/My Drive/traffic_dataset.zip'\n",
        "#cur_path='/content/drive/My Drive'\n",
        "data = []\n",
        "labels = []\n",
        "classes = 43\n",
        "\n",
        "#cur_path = os.getcwd()\n",
        "#Retrieving the images and their labels \n",
        "#for i in range(classes):\n",
        "#    path = os.path.join(cur_path,'traffic_dataset/Test')\n",
        "#    \n",
        "#    images = os.listdir(path)\n",
        "#    for a in images:\n",
        "#        try:\n",
        " #           image = Image.open(path + '/'+ a)\n",
        " #           # resizing and converting image into array\n",
        " #           image = image.resize((30,30))\n",
        " #           image = np.array(image)\n",
        " #           data.append(image)\n",
        " #           labels.append(i)\n",
        " #       except:\n",
        "  #          print(\"Error loading image\")\n",
        "  #          break\n",
        "#Converting lists into numpy arrays\n",
        "#data = np.array(data)\n",
        "#labels = np.array(labels)\n",
        "#print(data.shape, labels.shape)\n"
      ],
      "execution_count": null,
      "outputs": [
        {
          "output_type": "stream",
          "text": [
            "fatal: destination path 'german-traffic-signs' already exists and is not an empty directory.\n",
            "signnames.csv  test.p  train.p\tvalid.p\n"
          ],
          "name": "stdout"
        }
      ]
    },
    {
      "cell_type": "code",
      "metadata": {
        "id": "ABGTzaJf65iq",
        "colab_type": "code",
        "colab": {}
      },
      "source": [
        "import pickle\n",
        "with open('german-traffic-signs/train.p', 'rb') as f:\n",
        "  train = pickle.load(f)\n",
        "with open('german-traffic-signs/valid.p', 'rb') as f:\n",
        "  valid = pickle.load(f)\n",
        "with open('german-traffic-signs/test.p', 'rb') as f:\n",
        "  test = pickle.load(f)\n",
        "  \n",
        "X_train, y_train = train['features'], train['labels']\n",
        "X_valid, y_valid = valid['features'], valid['labels']\n",
        "X_test, y_test = test['features'], test['labels']"
      ],
      "execution_count": null,
      "outputs": []
    },
    {
      "cell_type": "code",
      "metadata": {
        "id": "d_Z9UCgN5j8u",
        "colab_type": "code",
        "colab": {
          "base_uri": "https://localhost:8080/",
          "height": 68
        },
        "outputId": "9153b39d-93f7-4a72-eef1-3dce846771e3"
      },
      "source": [
        "# splitting into training test set\n",
        "#,X_test,y_train,y_test=train_test_split(data,labels,test_size=0.1)\n",
        "\n",
        "\n",
        "print(X_train.shape,X_test.shape,y_train.shape,y_test.shape)\n",
        "\n",
        "# converting labels into one hot form\n",
        "\n",
        "y_train=pd.get_dummies(y_train)\n",
        "y_test=pd.get_dummies(y_test)\n",
        "y_valid=pd.get_dummies(y_valid)\n",
        "\n",
        "print('one hot form :')\n",
        "print(y_train.shape,y_test.shape)\n",
        "\n",
        "input_shape=(32,32, 3)"
      ],
      "execution_count": null,
      "outputs": [
        {
          "output_type": "stream",
          "text": [
            "(34799, 32, 32, 3) (12630, 32, 32, 3) (34799,) (12630,)\n",
            "one hot form :\n",
            "(34799, 43) (12630, 43)\n"
          ],
          "name": "stdout"
        }
      ]
    },
    {
      "cell_type": "code",
      "metadata": {
        "id": "ncP_dV6p5j89",
        "colab_type": "code",
        "colab": {
          "base_uri": "https://localhost:8080/",
          "height": 527
        },
        "outputId": "2bdeb134-5119-4ff2-f831-7aad033d1d54"
      },
      "source": [
        "#  Building Alexnet model having 8 layers \n",
        "\n",
        "\n",
        "model = Sequential()\n",
        "  # add the convolutional layer\n",
        "  #filters, size of filters,input_shape,activation_function\n",
        "model.add(Conv2D(60,(5,5), input_shape= (32,32,3), activation = 'relu'))\n",
        "model.add(Conv2D(60,(5,5), input_shape= (32,32,3), activation = 'relu'))\n",
        "  #pooling layer\n",
        "model.add(MaxPooling2D(pool_size = (2,2)))\n",
        "  # add another convolutional layer\n",
        "model.add(Conv2D(30, (3, 3) , activation = 'relu'))\n",
        "model.add(Conv2D(30, (3, 3) , activation = 'relu'))\n",
        "  # pooling layer\n",
        "model.add(MaxPooling2D(pool_size = (2,2)))\n",
        "\n",
        "  \n",
        "model.add(Dropout(0.3))\n",
        "  \n",
        "  #Flatten the image to 1 dimensional array\n",
        "model.add(Flatten())\n",
        "  #add a dense layer : amount of nodes, activation\n",
        "model.add(Dense(500, activation = 'relu'))\n",
        "  # place a dropout layer\n",
        "  #0.5 drop out rate is recommended, half input nodes will be dropped at each update\n",
        "model.add(Dropout(0.5))\n",
        "  # defining the ouput layer of our network\n",
        "model.add(Dense(classes, activation = 'softmax'))\n",
        "  \n",
        "    \n",
        "model.summary()\n"
      ],
      "execution_count": null,
      "outputs": [
        {
          "output_type": "stream",
          "text": [
            "Model: \"sequential_1\"\n",
            "_________________________________________________________________\n",
            "Layer (type)                 Output Shape              Param #   \n",
            "=================================================================\n",
            "conv2d_1 (Conv2D)            (None, 28, 28, 60)        4560      \n",
            "_________________________________________________________________\n",
            "conv2d_2 (Conv2D)            (None, 24, 24, 60)        90060     \n",
            "_________________________________________________________________\n",
            "max_pooling2d_1 (MaxPooling2 (None, 12, 12, 60)        0         \n",
            "_________________________________________________________________\n",
            "conv2d_3 (Conv2D)            (None, 10, 10, 30)        16230     \n",
            "_________________________________________________________________\n",
            "conv2d_4 (Conv2D)            (None, 8, 8, 30)          8130      \n",
            "_________________________________________________________________\n",
            "max_pooling2d_2 (MaxPooling2 (None, 4, 4, 30)          0         \n",
            "_________________________________________________________________\n",
            "dropout_1 (Dropout)          (None, 4, 4, 30)          0         \n",
            "_________________________________________________________________\n",
            "flatten_1 (Flatten)          (None, 480)               0         \n",
            "_________________________________________________________________\n",
            "dense_1 (Dense)              (None, 500)               240500    \n",
            "_________________________________________________________________\n",
            "dropout_2 (Dropout)          (None, 500)               0         \n",
            "_________________________________________________________________\n",
            "dense_2 (Dense)              (None, 43)                21543     \n",
            "=================================================================\n",
            "Total params: 381,023\n",
            "Trainable params: 381,023\n",
            "Non-trainable params: 0\n",
            "_________________________________________________________________\n"
          ],
          "name": "stdout"
        }
      ]
    },
    {
      "cell_type": "code",
      "metadata": {
        "scrolled": true,
        "id": "xZbeYDUb5j9E",
        "colab_type": "code",
        "colab": {
          "base_uri": "https://localhost:8080/",
          "height": 714
        },
        "outputId": "c68eb42e-2c1b-46d6-83c7-513953fba814"
      },
      "source": [
        "EPOCHS=10\n",
        "#in_lr=1e-3\n",
        "\n",
        "cb=EarlyStopping(patience=4,monitor='val_loss',verbose=1)\n",
        "cp=ModelCheckpoint('best_traffic_model',save_best_only=True,monitor='val_loss',verbose=1)\n",
        "\n",
        "#def lr_rate(EPOCHS):\n",
        "    \n",
        "    #lr=1e-2\n",
        "    #if EPOCHS>80:\n",
        "    #    lr *= 1e-1\n",
        "    #return lr\n",
        "#lr_rate(EPOCHS)\n",
        "lr_reducer = ReduceLROnPlateau(factor=np.sqrt(0.1),\n",
        "                               cooldown=0,\n",
        "                               patience=3,\n",
        "                               min_lr=0.5e-5)\n",
        " \n",
        "    \n",
        "callback=[cb,cp,lr_reducer]   \n",
        "from keras.optimizers import SGD\n",
        "\n",
        "opt=Adam(lr = 0.001)\n",
        "\n",
        "model.compile(loss='categorical_crossentropy',optimizer=opt,metrics=['accuracy'])\n",
        "\n",
        "history=model.fit(X_train,y_train,epochs=EPOCHS,callbacks=callback,shuffle=True,batch_size=52,validation_data=(X_valid, y_valid))   \n",
        "    \n",
        "model.save(\"my__traffic_model.h5\")\n",
        "\n",
        "\n",
        "    \n",
        "    "
      ],
      "execution_count": null,
      "outputs": [
        {
          "output_type": "stream",
          "text": [
            "Train on 34799 samples, validate on 4410 samples\n",
            "Epoch 1/10\n",
            "34799/34799 [==============================] - 8s 227us/step - loss: 2.6836 - accuracy: 0.3138 - val_loss: 1.0535 - val_accuracy: 0.7331\n",
            "\n",
            "Epoch 00001: val_loss improved from inf to 1.05347, saving model to best_traffic_model\n",
            "Epoch 2/10\n",
            "34799/34799 [==============================] - 5s 155us/step - loss: 0.6937 - accuracy: 0.8053 - val_loss: 0.2617 - val_accuracy: 0.9465\n",
            "\n",
            "Epoch 00002: val_loss improved from 1.05347 to 0.26172, saving model to best_traffic_model\n",
            "Epoch 3/10\n",
            "34799/34799 [==============================] - 5s 153us/step - loss: 0.2942 - accuracy: 0.9215 - val_loss: 0.1522 - val_accuracy: 0.9590\n",
            "\n",
            "Epoch 00003: val_loss improved from 0.26172 to 0.15215, saving model to best_traffic_model\n",
            "Epoch 4/10\n",
            "34799/34799 [==============================] - 5s 152us/step - loss: 0.2224 - accuracy: 0.9406 - val_loss: 0.1324 - val_accuracy: 0.9667\n",
            "\n",
            "Epoch 00004: val_loss improved from 0.15215 to 0.13241, saving model to best_traffic_model\n",
            "Epoch 5/10\n",
            "34799/34799 [==============================] - 5s 155us/step - loss: 0.1847 - accuracy: 0.9515 - val_loss: 0.1303 - val_accuracy: 0.9683\n",
            "\n",
            "Epoch 00005: val_loss improved from 0.13241 to 0.13027, saving model to best_traffic_model\n",
            "Epoch 6/10\n",
            "34799/34799 [==============================] - 5s 157us/step - loss: 0.1728 - accuracy: 0.9550 - val_loss: 0.1826 - val_accuracy: 0.9515\n",
            "\n",
            "Epoch 00006: val_loss did not improve from 0.13027\n",
            "Epoch 7/10\n",
            "34799/34799 [==============================] - 5s 153us/step - loss: 0.1657 - accuracy: 0.9577 - val_loss: 0.1089 - val_accuracy: 0.9735\n",
            "\n",
            "Epoch 00007: val_loss improved from 0.13027 to 0.10887, saving model to best_traffic_model\n",
            "Epoch 8/10\n",
            "34799/34799 [==============================] - 5s 153us/step - loss: 0.1526 - accuracy: 0.9610 - val_loss: 0.0929 - val_accuracy: 0.9780\n",
            "\n",
            "Epoch 00008: val_loss improved from 0.10887 to 0.09294, saving model to best_traffic_model\n",
            "Epoch 9/10\n",
            "34799/34799 [==============================] - 5s 153us/step - loss: 0.1382 - accuracy: 0.9646 - val_loss: 0.1107 - val_accuracy: 0.9782\n",
            "\n",
            "Epoch 00009: val_loss did not improve from 0.09294\n",
            "Epoch 10/10\n",
            "34799/34799 [==============================] - 5s 153us/step - loss: 0.1136 - accuracy: 0.9708 - val_loss: 0.1089 - val_accuracy: 0.9753\n",
            "\n",
            "Epoch 00010: val_loss did not improve from 0.09294\n"
          ],
          "name": "stdout"
        }
      ]
    },
    {
      "cell_type": "code",
      "metadata": {
        "id": "jQR0ViZS5j9L",
        "colab_type": "code",
        "colab": {
          "base_uri": "https://localhost:8080/",
          "height": 68
        },
        "outputId": "2bf3f640-33ef-428d-a316-ce11a907ba9e"
      },
      "source": [
        "score = model.evaluate(X_test, y_test, verbose=1)\n",
        "print(\"The test score is: \",score[0])\n",
        "print(\"The Accuracy score is: \",score[1])\n",
        "\n",
        "\n"
      ],
      "execution_count": null,
      "outputs": [
        {
          "output_type": "stream",
          "text": [
            "12630/12630 [==============================] - 1s 92us/step\n",
            "The test score is:  0.2267117866256629\n",
            "The Accuracy score is:  0.9575613737106323\n"
          ],
          "name": "stdout"
        }
      ]
    },
    {
      "cell_type": "code",
      "metadata": {
        "id": "GGonvINw5mcT",
        "colab_type": "code",
        "colab": {}
      },
      "source": [
        "#.    GridSearch alternate method for hyperparam tuning\n",
        "#from sklearn.model_selection import GridSearchCV\n",
        "#from keras.wrappers.scikit_learn import KerasClassifier\n",
        "#parameters = {'batch_size' : [32, 64],\n",
        "#              'epochs' : [500, 100],\n",
        "#              'optimizer' : ['adam', 'rmsprop']}\n",
        "#classifier = KerasClassifier(build_fn = model)\n",
        "#grid_search = GridSearchCV(estimator = classifier,\n",
        "#                           param_grid = parameters,\n",
        "#                           scoring = 'accuracy',\n",
        "#                           cv = 10)\n",
        "\n",
        "#grid_search.fit(X_train,y_train,validation_data=(X_valid, y_valid))"
      ],
      "execution_count": null,
      "outputs": []
    },
    {
      "cell_type": "code",
      "metadata": {
        "id": "dmtCXUTM5j9f",
        "colab_type": "code",
        "colab": {
          "base_uri": "https://localhost:8080/",
          "height": 312
        },
        "outputId": "ac8826ee-d010-42a8-c66b-c4e10b08ca88"
      },
      "source": [
        "plt.plot(history.history['loss'])\n",
        "plt.plot(history.history['val_loss'])\n",
        "plt.legend(['training', 'validation'])\n",
        "plt.title('Model Loss')\n",
        "plt.xlabel('epoch')\n"
      ],
      "execution_count": null,
      "outputs": [
        {
          "output_type": "execute_result",
          "data": {
            "text/plain": [
              "Text(0.5, 0, 'epoch')"
            ]
          },
          "metadata": {
            "tags": []
          },
          "execution_count": 10
        },
        {
          "output_type": "display_data",
          "data": {
            "image/png": "[encoded data removed]",
            "text/plain": [
              "<Figure size 432x288 with 1 Axes>"
            ]
          },
          "metadata": {
            "tags": [],
            "needs_background": "light"
          }
        }
      ]
    },
    {
      "cell_type": "code",
      "metadata": {
        "id": "tXKkmCYmuT82",
        "colab_type": "code",
        "colab": {
          "base_uri": "https://localhost:8080/",
          "height": 312
        },
        "outputId": "727f7838-00a2-496f-ebfd-9de23fc4f7b3"
      },
      "source": [
        "plt.plot(history.history['accuracy'])\n",
        "plt.plot(history.history['val_accuracy'])\n",
        "plt.legend(['training', 'validation'])\n",
        "plt.title('Model Accuracy')\n",
        "plt.xlabel('epoch')"
      ],
      "execution_count": null,
      "outputs": [
        {
          "output_type": "execute_result",
          "data": {
            "text/plain": [
              "Text(0.5, 0, 'epoch')"
            ]
          },
          "metadata": {
            "tags": []
          },
          "execution_count": 11
        },
        {
          "output_type": "display_data",
          "data": {
            "image/png": "[encoded data removed]",
            "text/plain": [
              "<Figure size 432x288 with 1 Axes>"
            ]
          },
          "metadata": {
            "tags": [],
            "needs_background": "light"
          }
        }
      ]
    },
    {
      "cell_type": "code",
      "metadata": {
        "id": "HxYLemtZu7C9",
        "colab_type": "code",
        "colab": {}
      },
      "source": [
        "from keras.models import load_model\n",
        "from sklearn.metrics import classification_report\n",
        "from sklearn.metrics import confusion_matrix\n",
        "from sklearn.preprocessing import LabelEncoder\n",
        "model = load_model('my__traffic_model.h5')\n",
        "#y_pred=model.predict(X_test)\n",
        "# displaying scores\n",
        "\n",
        "#classification_report(y_true=y_test,y_pred=y_pred)\n",
        "\n",
        "#from sklearn.metrics import confusion_matrix\n",
        "#cm = confusion_matrix(y_test, y_pred)\n",
        "\n"
      ],
      "execution_count": null,
      "outputs": []
    }
  ]
}